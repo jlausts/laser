{
 "cells": [
  {
   "cell_type": "code",
   "execution_count": 141,
   "id": "abc189bf",
   "metadata": {},
   "outputs": [],
   "source": [
    "import serial, struct\n",
    "ser = serial.Serial('COM3', 115200) \n"
   ]
  },
  {
   "cell_type": "code",
   "execution_count": 159,
   "id": "6f09e504",
   "metadata": {},
   "outputs": [],
   "source": [
    "r = 255\n",
    "g = 100\n",
    "b = 50\n",
    "laser_x = 1000\n",
    "laser_y = 2000\n",
    "audio_l = 300\n",
    "audio_r = 400\n",
    "timestamp = 10000\n",
    "payload = struct.pack('<BBBHHHHQ', r, g, b, laser_x, laser_y, audio_l, audio_r, timestamp)\n",
    "\n",
    "for i in range(10):\n",
    "    ser.write(payload)\n"
   ]
  },
  {
   "cell_type": "code",
   "execution_count": null,
   "id": "bbe00567",
   "metadata": {},
   "outputs": [],
   "source": [
    "ser.close()"
   ]
  },
  {
   "cell_type": "code",
   "execution_count": 206,
   "id": "78842df7",
   "metadata": {},
   "outputs": [
    {
     "data": {
      "text/plain": [
       "128"
      ]
     },
     "execution_count": 206,
     "metadata": {},
     "output_type": "execute_result"
    }
   ],
   "source": [
    "16*8"
   ]
  },
  {
   "cell_type": "code",
   "execution_count": 177,
   "id": "9054a4c6",
   "metadata": {},
   "outputs": [
    {
     "data": {
      "text/plain": [
       "1270625.0"
      ]
     },
     "execution_count": 177,
     "metadata": {},
     "output_type": "execute_result"
    }
   ],
   "source": [
    "19*107/.0016"
   ]
  },
  {
   "cell_type": "code",
   "execution_count": 203,
   "id": "989ab074",
   "metadata": {},
   "outputs": [
    {
     "data": {
      "text/plain": [
       "(39.974168451037094, 40)"
      ]
     },
     "execution_count": 203,
     "metadata": {},
     "output_type": "execute_result"
    }
   ],
   "source": [
    "import numpy as np\n",
    "np.log2(10000000/20 * 3600*24*25), 8*5"
   ]
  },
  {
   "cell_type": "code",
   "execution_count": null,
   "id": "442af5c7",
   "metadata": {},
   "outputs": [
    {
     "data": {
      "text/plain": [
       "7812.499999999999"
      ]
     },
     "execution_count": 40,
     "metadata": {},
     "output_type": "execute_result"
    }
   ],
   "source": [
    "1/6.4/.00002\n",
    "\n",
    "# up to 3khz, then upto 7khz need amplification."
   ]
  },
  {
   "cell_type": "code",
   "execution_count": 39,
   "id": "cea520a7",
   "metadata": {},
   "outputs": [
    {
     "data": {
      "text/plain": [
       "6.4"
      ]
     },
     "execution_count": 39,
     "metadata": {},
     "output_type": "execute_result"
    }
   ],
   "source": [
    "640/100"
   ]
  }
 ],
 "metadata": {
  "kernelspec": {
   "display_name": "base",
   "language": "python",
   "name": "python3"
  },
  "language_info": {
   "codemirror_mode": {
    "name": "ipython",
    "version": 3
   },
   "file_extension": ".py",
   "mimetype": "text/x-python",
   "name": "python",
   "nbconvert_exporter": "python",
   "pygments_lexer": "ipython3",
   "version": "3.12.7"
  }
 },
 "nbformat": 4,
 "nbformat_minor": 5
}
