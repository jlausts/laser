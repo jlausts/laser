{
 "cells": [
  {
   "cell_type": "code",
   "execution_count": null,
   "id": "052a114e",
   "metadata": {},
   "outputs": [],
   "source": [
    "import pandas as pd\n",
    "import numpy as np\n",
    "import plotly.express as px"
   ]
  },
  {
   "cell_type": "code",
   "execution_count": null,
   "id": "8c043b74",
   "metadata": {},
   "outputs": [],
   "source": [
    "from typing import List, Tuple\n",
    "\n",
    "def trans(x1: float, y1: float,                 # start position\n",
    "          x2: float, y2: float,                 # target position\n",
    "          x1v: float, y1v: float,               # start velocity\n",
    "          x2v: float, y2v: float,               # target velocity\n",
    "          kp: float = 10.0,                    # PID gains (same for x & y)\n",
    "          ki: float = 0.0,\n",
    "          kd: float = 40.0,\n",
    "          dt: float = 0.01,                    # integration step (s)\n",
    "          max_steps: int = 100_000) -> List[Tuple[float, float]]:\n",
    "    \"\"\"\n",
    "    Returns a list of (x, y) points forming a smooth, velocity-continuous arc\n",
    "    from (x1,y1,x1v,y1v) to (x2,y2,x2v,y2v).\n",
    "    \"\"\"\n",
    "    # State variables\n",
    "    x,  y  = x1,  y1\n",
    "    vx, vy = x1v, y1v\n",
    "    ix, iy = 0.0, 0.0                # integral terms\n",
    "\n",
    "    points: List[Tuple[float, float]] = [(x, y)]\n",
    "\n",
    "    # Helper to check convergence\n",
    "    def done() -> bool:\n",
    "        pos_ok = abs(x - x2) < 0.01 and abs(y - y2) < 0.01\n",
    "        vel_ok = abs(vx - x2v) < 0.01 and abs(vy - y2v) < 0.01\n",
    "        return pos_ok and vel_ok\n",
    "\n",
    "    for _ in range(max_steps):\n",
    "        if done():\n",
    "            break\n",
    "\n",
    "        # --- PID on X --------------------------------------------------------\n",
    "        ex  = (x2 - x)                         # position error\n",
    "        evx = (x2v - vx)                       # velocity error (derivative term)\n",
    "        ix += ex * dt                          # integral\n",
    "        fx  = kp*ex + ki*ix + kd*evx           # control force  (mass = 1)\n",
    "\n",
    "        # --- PID on Y --------------------------------------------------------\n",
    "        ey  = (y2 - y)\n",
    "        evy = (y2v - vy)\n",
    "        iy += ey * dt\n",
    "        fy  = kp*ey + ki*iy + kd*evy\n",
    "\n",
    "        # --- Physics integration (explicit Euler) ---------------------------\n",
    "        ax, ay = fx, fy                        # mass = 1 → a = F\n",
    "        vx += ax * dt\n",
    "        vy += ay * dt\n",
    "        x  += vx * dt\n",
    "        y  += vy * dt\n",
    "\n",
    "        points.append((x, y))\n",
    "\n",
    "    return np.array(points)\n",
    "\n",
    "\n",
    "info = trans(10, 0, 0, 1, 1, 0, 1, 0, kp=5, kd=10)\n",
    "px.scatter(x=info[:,0], y=info[:,1])\n"
   ]
  },
  {
   "cell_type": "code",
   "execution_count": null,
   "id": "759d0356",
   "metadata": {},
   "outputs": [],
   "source": [
    "def bezier_curve(p0, p1, p2, p3, steps):\n",
    "    pts = []\n",
    "    for i in range(steps + 1):\n",
    "        t = i / steps\n",
    "        u = 1 - t\n",
    "        x = (u**3)*p0[0] + 3*(u**2)*t*p1[0] + 3*u*(t**2)*p2[0] + (t**3)*p3[0]\n",
    "        y = (u**3)*p0[1] + 3*(u**2)*t*p1[1] + 3*u*(t**2)*p2[1] + (t**3)*p3[1]\n",
    "        pts.append((x, y))\n",
    "    return np.array(pts)\n",
    "\n",
    "def hermite_curve(p0, p1, t0, t1, steps):\n",
    "    pts = []\n",
    "    for i in range(steps + 1):\n",
    "        s = i / steps\n",
    "        h00 = 2*s**3 - 3*s**2 + 1\n",
    "        h10 = s**3 - 2*s**2 + s\n",
    "        h01 = -2*s**3 + 3*s**2\n",
    "        h11 = s**3 - s**2\n",
    "        x = h00*p0[0] + h10*t0[0] + h01*p1[0] + h11*t1[0]\n",
    "        y = h00*p0[1] + h10*t0[1] + h01*p1[1] + h11*t1[1]\n",
    "        pts.append((x, y))\n",
    "    return np.array(pts)\n",
    "\n",
    "# ---- Bézier spec ---------------------------------------------------\n",
    "P0 = (10, 0)\n",
    "P1 = (13, 0)\n",
    "P2 = (-3, 1)\n",
    "P3 = (0, 1)\n",
    "steps = 1000\n",
    "\n",
    "bezier = bezier_curve(P0, P1, P2, P3, steps)\n",
    "\n",
    "# ---- Bézier → Hermite tangents -------------------------------------\n",
    "tension = 5.0            # 0 = flat ends, 1 = Bézier-exact, >1 = overshoot\n",
    "T0 = 3 * tension * (np.array(P1) - np.array(P0))\n",
    "T1 = 3 * tension * (np.array(P3) - np.array(P2))\n",
    "\n",
    "hermite = hermite_curve(P0, P3, T0, T1, steps)\n",
    "\n",
    "# ---- Optional: inspect / compare -----------------------------------\n",
    "df = pd.DataFrame({\n",
    "    \"bx\": bezier[:,0], \"by\": bezier[:,1],\n",
    "    \"hx\": hermite[:,0], \"hy\": hermite[:,1],\n",
    "})\n",
    "\n",
    "px.scatter(x=df.hx, y=df.hy).show()"
   ]
  },
  {
   "cell_type": "code",
   "execution_count": null,
   "id": "021478ae",
   "metadata": {},
   "outputs": [],
   "source": [
    "from typing import List, Tuple\n",
    "\n",
    "def bezier_curve(\n",
    "    p0: Tuple[float, float],\n",
    "    p1: Tuple[float, float],\n",
    "    p2: Tuple[float, float],\n",
    "    p3: Tuple[float, float],\n",
    "    steps: int = 256\n",
    ") -> List[Tuple[float, float]]:\n",
    "    \"\"\"\n",
    "    Generate a cubic Bézier curve from p0 to p3 with control points p1 and p2.\n",
    "\n",
    "    p0: Start point (x0, y0)\n",
    "    p1: Control point 1\n",
    "    p2: Control point 2\n",
    "    p3: End point (x3, y3)\n",
    "    steps: Number of interpolation steps\n",
    "    Returns a list of (x, y) points\n",
    "    \"\"\"\n",
    "    curve = []\n",
    "    for i in range(steps + 1):\n",
    "        t = i / steps\n",
    "        u = 1 - t\n",
    "        # Cubic Bézier blending\n",
    "        x = (u**3)*p0[0] + 3*(u**2)*t*p1[0] + 3*u*(t**2)*p2[0] + (t**3)*p3[0]\n",
    "        y = (u**3)*p0[1] + 3*(u**2)*t*p1[1] + 3*u*(t**2)*p2[1] + (t**3)*p3[1]\n",
    "        curve.append((x, y))\n",
    "    return np.array(curve)\n",
    "\n",
    "def hermite_curve(p0, p1, t0, t1, steps=100):\n",
    "    \"\"\"\n",
    "    Generate points along a cubic Hermite curve.\n",
    "\n",
    "    Parameters:\n",
    "    - p0: (x, y) start point\n",
    "    - p1: (x, y) end point\n",
    "    - t0: (x, y) tangent at start\n",
    "    - t1: (x, y) tangent at end\n",
    "    - steps: number of interpolated points\n",
    "\n",
    "    Returns:\n",
    "    - List of (x, y) points along the curve\n",
    "    \"\"\"\n",
    "    points = []\n",
    "    for i in range(steps + 1):\n",
    "        t = i / steps\n",
    "        h00 = 2*t**3 - 3*t**2 + 1\n",
    "        h10 = t**3 - 2*t**2 + t\n",
    "        h01 = -2*t**3 + 3*t**2\n",
    "        h11 = t**3 - t**2\n",
    "\n",
    "        x = h00*p0[0] + h10*t0[0] + h01*p1[0] + h11*t1[0]\n",
    "        y = h00*p0[1] + h10*t0[1] + h01*p1[1] + h11*t1[1]\n",
    "\n",
    "        points.append((x, y))\n",
    "    return points\n",
    "\n",
    "\n",
    "info = bezier_curve(\n",
    "    p0=(10, 0),          # start\n",
    "    p1=(13, 0),       # control point 1\n",
    "    p2=(-3, 1),       # control point 2\n",
    "    p3=(0, 1) ,    # end\n",
    "    steps=1000\n",
    ")\n",
    "\n",
    "t0 = (0, 1) \n",
    "t1 = (0, 1) \n",
    "\n",
    "curve = hermite_curve((10, 0), (0, 1), t0, t1, steps=999)\n",
    "diff = np.diff(info, axis=0)\n",
    "df = pd.DataFrame(np.concatenate([info[1:], diff, curve], axis=1), columns=['x', 'y', 'dx', 'dy', 'hx', 'hy'])\n",
    "px.scatter(x=df.hx, y=df.hy).show()"
   ]
  },
  {
   "cell_type": "code",
   "execution_count": null,
   "id": "f6888906",
   "metadata": {},
   "outputs": [],
   "source": [
    "df = df.assign(\n",
    "    angle=np.arctan2(df.dy, df.dx),\n",
    "    speed=np.sqrt(df.dx**2 + df.dy**2)\n",
    ")\n",
    "df = df.assign(acceleration=np.sqrt(np.diff(df.speed, prepend=df.speed.values[0])**2))\n",
    "\n",
    "# px.scatter(x=df.angle).show()\n",
    "px.scatter(x=df.speed).show()\n",
    "px.scatter(x=df.acceleration).show()"
   ]
  },
  {
   "cell_type": "code",
   "execution_count": null,
   "id": "f4bc2512",
   "metadata": {},
   "outputs": [],
   "source": [
    "from typing import List, Tuple\n",
    "from math import hypot\n",
    "vec = Tuple[float, float]\n",
    "\n",
    "def next_point_pid(P1: vec, P2: vec, V1: vec, max_accel: float,\n",
    "                   Kp: float = 1.0, Ki: float = 0.0, Kd: float = 0.5,\n",
    "                   integral: vec = (0.0, 0.0), dt: float = 1.0) -> Tuple[vec, vec, vec]:\n",
    "    # Error = desired_position - current_position\n",
    "    error = (P2[0] - P1[0], P2[1] - P1[1])\n",
    "\n",
    "    # Derivative = desired_velocity - current_velocity\n",
    "    derivative = (-V1[0], -V1[1])  # Assume desired velocity is 0 at target\n",
    "\n",
    "    # Integrate error\n",
    "    integral = (integral[0] + error[0] * dt, integral[1] + error[1] * dt)\n",
    "\n",
    "    # PID output\n",
    "    ax = Kp * error[0] + Ki * integral[0] + Kd * derivative[0]\n",
    "    ay = Kp * error[1] + Ki * integral[1] + Kd * derivative[1]\n",
    "\n",
    "    # Limit total acceleration\n",
    "    mag = hypot(ax, ay)\n",
    "    if mag > max_accel:\n",
    "        ax *= max_accel / mag\n",
    "        ay *= max_accel / mag\n",
    "\n",
    "    # New velocity and position\n",
    "    V2 = (V1[0] + ax * dt, V1[1] + ay * dt)\n",
    "    P3 = (P1[0] + V2[0] * dt, P1[1] + V2[1] * dt)\n",
    "\n",
    "    return P3, V2, integral\n",
    "\n",
    "def meet_paths(start: vec, end: vec,\n",
    "               v_start: vec = (0., 0.),\n",
    "               v_end: vec = (0., 0.),\n",
    "               max_accel: float = 0.05,\n",
    "               epsilon: float = 0.01,\n",
    "               max_steps: int = 500) -> List[vec]:\n",
    "    \"\"\"\n",
    "    Generates a single path from `start` to `end` by moving\n",
    "    two points toward each other with capped acceleration.\n",
    "    \"\"\"\n",
    "    P1, P2 = start, end\n",
    "    V1, V2 = v_start, v_end\n",
    "\n",
    "    forward:  List[vec] = [P1]\n",
    "    backward: List[vec] = [P2]\n",
    "\n",
    "    for _ in range(max_steps):\n",
    "\n",
    "        # advance both ends\n",
    "        P1_next, V1 = next_point(P1, P2, V1, max_accel)\n",
    "        P2_next, V2 = next_point(P2, P1, V2, max_accel)\n",
    "\n",
    "        # if they would cross each other, clamp to midpoint and stop\n",
    "        if hypot(P1_next[0] - P2_next[0], P1_next[1] - P2_next[1]) < epsilon:\n",
    "            mid = ((P1_next[0] + P2_next[0]) / 2,\n",
    "                   (P1_next[1] + P2_next[1]) / 2)\n",
    "            forward.append(mid)\n",
    "            backward.append(mid)\n",
    "            break\n",
    "\n",
    "        # otherwise record and continue\n",
    "        forward.append(P1_next)\n",
    "        backward.append(P2_next)\n",
    "        P1, P2 = P1_next, P2_next\n",
    "\n",
    "    # stitch: forward  (start→mid) + reversed(backward[1:]) (mid→end)\n",
    "    backward.reverse()\n",
    "    backward = backward[1:]                     # drop duplicate mid\n",
    "    full_path = forward + backward\n",
    "    return full_path\n",
    "\n",
    "\n",
    "# demo ---------------------------------------------------------------\n",
    "# full = meet_paths((10, 0), (0, 1),\n",
    "#                   v_start=(.15, 0),\n",
    "#                   v_end=(-.15, 0),\n",
    "#                   max_accel=0.05, \n",
    "#                   epsilon=0., max_steps=1000)\n",
    "\n",
    "# xs, ys = zip(*full)\n",
    "# px.line(x=xs, y=ys)\n",
    "# Start state\n",
    "p = (10.0, 0.0)      # position\n",
    "v = (0.15, 0.0)      # velocity\n",
    "integral = (0.0, 0.0)\n",
    "\n",
    "# Trajectory buffer\n",
    "ps = []\n",
    "\n",
    "# PID gains and accel cap\n",
    "Kp, Kd, Ki = 0.3, 4, 0.0\n",
    "Amax = 0.02\n",
    "\n",
    "for _ in range(100):\n",
    "    p, v, integral = next_point_pid(\n",
    "        P1=p,\n",
    "        P2=(0.0, 1.0),      # target\n",
    "        V1=v,\n",
    "        max_accel=Amax,\n",
    "        Kp=Kp, Kd=Kd, Ki=Ki,\n",
    "        integral=integral,  # pass the running integral\n",
    "        dt=1.0              # timestep\n",
    "    )\n",
    "    ps.append(p)\n",
    "\n",
    "px.scatter(x=[pt[0] for pt in ps], y=[pt[1] for pt in ps])\n"
   ]
  },
  {
   "cell_type": "code",
   "execution_count": 252,
   "id": "5f1e74d2",
   "metadata": {},
   "outputs": [
    {
     "data": {
      "application/vnd.plotly.v1+json": {
       "config": {
        "plotlyServerURL": "https://plot.ly"
       },
       "data": [
        {
         "hovertemplate": "x=%{x}<br>y=%{y}<extra></extra>",
         "legendgroup": "",
         "marker": {
          "color": "#636efa",
          "symbol": "circle"
         },
         "mode": "markers",
         "name": "",
         "orientation": "v",
         "showlegend": false,
         "type": "scatter",
         "x": [
          10,
          10.450485301666813,
          10.85136584277868,
          11.202571369587394,
          11.50404579020656,
          11.755743434637838,
          11.957626498459366,
          12.109663249021335,
          12.211826739319015,
          12.264093870395474,
          12.266444700374477,
          12.218861933825599,
          12.121330548282224,
          11.97383753064066,
          11.776371708139914,
          11.528923668996965,
          11.231485778688036,
          10.884052311998188,
          10.486619742688502,
          10.039187270440872,
          9.541757736991215,
          8.99433923357176,
          8.396948043798773,
          7.749614435564704,
          7.052395367678958,
          6.305407343292087,
          5.508937606973574,
          4.664085863234198,
          3.795151016741327,
          2.9760716921913755,
          2.2069802911060883,
          1.4878862704846714,
          0.818788842579709,
          0.19968675927148838,
          -0.36942104607232595,
          -0.8885354545148038,
          -1.357657204715521,
          -1.7767869316702045,
          -2.1459251963739687,
          -2.4650725084281064,
          -2.7342293441151106,
          -1.7093319251816466,
          -1.851876791001898,
          -2.044412285626732,
          -2.2869393667465743,
          -2.579459191785263,
          -2.921973259624022,
          -3.314483617546029,
          -3.7569929308850147,
          -4.249500612028877,
          -4.791845952066116,
          -5.288804057135693,
          -5.736517497710406,
          -6.134567273617724,
          -6.482814263663307,
          -6.781173853103569,
          -7.029598770267354,
          -7.228061008820271,
          -7.376543452244393,
          -7.475035669705249,
          -7.523531622617937,
          -7.522028328779517,
          -7.470525044941854,
          -7.369022748843189,
          -7.217523804151405,
          -7.0160317429660175,
          -6.7645511277342365,
          -6.463087469711245,
          -6.111647190130274,
          -5.710237615897597,
          -5.258867005403587,
          -4.7575446027951775,
          -4.206280721306474,
          -3.6050868583490496,
          -2.953975847312601,
          -2.2529620537133304,
          -1.5020616268090625,
          -0.7012928225737721,
          0.14932357926043105,
          1.0497637313386647,
          2
         ],
         "xaxis": "x",
         "y": [
          0,
          0.006949435155001173,
          0.020173241217629867,
          0.03908852810526754,
          0.06318233574344437,
          0.0919955238855648,
          0.12511075324956528,
          0.1621432590181502,
          0.20273356053840805,
          0.24654152215051783,
          0.29324134903407745,
          0.34251720732094004,
          0.3940592210619913,
          0.4475596316180812,
          0.5027089128501727,
          0.5591916180702693,
          0.6166816863843633,
          0.6748368429179358,
          0.733291561149568,
          0.7916477593517879,
          0.8494618587061125,
          0.9062257764768517,
          0.9613372358936253,
          1.0140497709143144,
          1.0633798637195415,
          1.1079088140785278,
          1.1452572223748285,
          1.1699889211980719,
          1.1509027679315031,
          1.1356148947756057,
          1.1214258881679418,
          1.1077486888980665,
          1.0946551990978521,
          1.08224399857136,
          1.070589217781313,
          1.0597470046902508,
          1.0497616007509563,
          1.0406692879425108,
          1.032500935097974,
          1.0252837148324314,
          1.019042339117556,
          1.0276473195310214,
          1.0237341026980364,
          1.0188528818761833,
          1.0130544480408599,
          1.0064042187696238,
          0.9989952491952222,
          0.9909772000597593,
          0.9826359525162373,
          0.9746987060225867,
          0.9707873452733864,
          0.987852135314792,
          1.0135750440195235,
          1.0450876342184745,
          1.0810367230830586,
          1.1203395055598102,
          1.162197381898014,
          1.2059867721572364,
          1.251197457207717,
          1.2973967312231323,
          1.3442071772516917,
          1.3912920760482217,
          1.4383453508738495,
          1.4850843440993113,
          1.531244433657366,
          1.576574882777013,
          1.6208355354904176,
          1.663794100137689,
          1.7052238424766,
          1.744901559698392,
          1.78260573804453,
          1.8181148162654355,
          1.8512054885549207,
          1.881650985891165,
          1.9092192749178172,
          1.9336711088288545,
          1.9547578547034852,
          1.972219005127606,
          1.9857792564737107,
          1.9951449981201639,
          2
         ],
         "yaxis": "y"
        }
       ],
       "layout": {
        "legend": {
         "tracegroupgap": 0
        },
        "margin": {
         "t": 60
        },
        "template": {
         "data": {
          "bar": [
           {
            "error_x": {
             "color": "#2a3f5f"
            },
            "error_y": {
             "color": "#2a3f5f"
            },
            "marker": {
             "line": {
              "color": "#E5ECF6",
              "width": 0.5
             },
             "pattern": {
              "fillmode": "overlay",
              "size": 10,
              "solidity": 0.2
             }
            },
            "type": "bar"
           }
          ],
          "barpolar": [
           {
            "marker": {
             "line": {
              "color": "#E5ECF6",
              "width": 0.5
             },
             "pattern": {
              "fillmode": "overlay",
              "size": 10,
              "solidity": 0.2
             }
            },
            "type": "barpolar"
           }
          ],
          "carpet": [
           {
            "aaxis": {
             "endlinecolor": "#2a3f5f",
             "gridcolor": "white",
             "linecolor": "white",
             "minorgridcolor": "white",
             "startlinecolor": "#2a3f5f"
            },
            "baxis": {
             "endlinecolor": "#2a3f5f",
             "gridcolor": "white",
             "linecolor": "white",
             "minorgridcolor": "white",
             "startlinecolor": "#2a3f5f"
            },
            "type": "carpet"
           }
          ],
          "choropleth": [
           {
            "colorbar": {
             "outlinewidth": 0,
             "ticks": ""
            },
            "type": "choropleth"
           }
          ],
          "contour": [
           {
            "colorbar": {
             "outlinewidth": 0,
             "ticks": ""
            },
            "colorscale": [
             [
              0,
              "#0d0887"
             ],
             [
              0.1111111111111111,
              "#46039f"
             ],
             [
              0.2222222222222222,
              "#7201a8"
             ],
             [
              0.3333333333333333,
              "#9c179e"
             ],
             [
              0.4444444444444444,
              "#bd3786"
             ],
             [
              0.5555555555555556,
              "#d8576b"
             ],
             [
              0.6666666666666666,
              "#ed7953"
             ],
             [
              0.7777777777777778,
              "#fb9f3a"
             ],
             [
              0.8888888888888888,
              "#fdca26"
             ],
             [
              1,
              "#f0f921"
             ]
            ],
            "type": "contour"
           }
          ],
          "contourcarpet": [
           {
            "colorbar": {
             "outlinewidth": 0,
             "ticks": ""
            },
            "type": "contourcarpet"
           }
          ],
          "heatmap": [
           {
            "colorbar": {
             "outlinewidth": 0,
             "ticks": ""
            },
            "colorscale": [
             [
              0,
              "#0d0887"
             ],
             [
              0.1111111111111111,
              "#46039f"
             ],
             [
              0.2222222222222222,
              "#7201a8"
             ],
             [
              0.3333333333333333,
              "#9c179e"
             ],
             [
              0.4444444444444444,
              "#bd3786"
             ],
             [
              0.5555555555555556,
              "#d8576b"
             ],
             [
              0.6666666666666666,
              "#ed7953"
             ],
             [
              0.7777777777777778,
              "#fb9f3a"
             ],
             [
              0.8888888888888888,
              "#fdca26"
             ],
             [
              1,
              "#f0f921"
             ]
            ],
            "type": "heatmap"
           }
          ],
          "heatmapgl": [
           {
            "colorbar": {
             "outlinewidth": 0,
             "ticks": ""
            },
            "colorscale": [
             [
              0,
              "#0d0887"
             ],
             [
              0.1111111111111111,
              "#46039f"
             ],
             [
              0.2222222222222222,
              "#7201a8"
             ],
             [
              0.3333333333333333,
              "#9c179e"
             ],
             [
              0.4444444444444444,
              "#bd3786"
             ],
             [
              0.5555555555555556,
              "#d8576b"
             ],
             [
              0.6666666666666666,
              "#ed7953"
             ],
             [
              0.7777777777777778,
              "#fb9f3a"
             ],
             [
              0.8888888888888888,
              "#fdca26"
             ],
             [
              1,
              "#f0f921"
             ]
            ],
            "type": "heatmapgl"
           }
          ],
          "histogram": [
           {
            "marker": {
             "pattern": {
              "fillmode": "overlay",
              "size": 10,
              "solidity": 0.2
             }
            },
            "type": "histogram"
           }
          ],
          "histogram2d": [
           {
            "colorbar": {
             "outlinewidth": 0,
             "ticks": ""
            },
            "colorscale": [
             [
              0,
              "#0d0887"
             ],
             [
              0.1111111111111111,
              "#46039f"
             ],
             [
              0.2222222222222222,
              "#7201a8"
             ],
             [
              0.3333333333333333,
              "#9c179e"
             ],
             [
              0.4444444444444444,
              "#bd3786"
             ],
             [
              0.5555555555555556,
              "#d8576b"
             ],
             [
              0.6666666666666666,
              "#ed7953"
             ],
             [
              0.7777777777777778,
              "#fb9f3a"
             ],
             [
              0.8888888888888888,
              "#fdca26"
             ],
             [
              1,
              "#f0f921"
             ]
            ],
            "type": "histogram2d"
           }
          ],
          "histogram2dcontour": [
           {
            "colorbar": {
             "outlinewidth": 0,
             "ticks": ""
            },
            "colorscale": [
             [
              0,
              "#0d0887"
             ],
             [
              0.1111111111111111,
              "#46039f"
             ],
             [
              0.2222222222222222,
              "#7201a8"
             ],
             [
              0.3333333333333333,
              "#9c179e"
             ],
             [
              0.4444444444444444,
              "#bd3786"
             ],
             [
              0.5555555555555556,
              "#d8576b"
             ],
             [
              0.6666666666666666,
              "#ed7953"
             ],
             [
              0.7777777777777778,
              "#fb9f3a"
             ],
             [
              0.8888888888888888,
              "#fdca26"
             ],
             [
              1,
              "#f0f921"
             ]
            ],
            "type": "histogram2dcontour"
           }
          ],
          "mesh3d": [
           {
            "colorbar": {
             "outlinewidth": 0,
             "ticks": ""
            },
            "type": "mesh3d"
           }
          ],
          "parcoords": [
           {
            "line": {
             "colorbar": {
              "outlinewidth": 0,
              "ticks": ""
             }
            },
            "type": "parcoords"
           }
          ],
          "pie": [
           {
            "automargin": true,
            "type": "pie"
           }
          ],
          "scatter": [
           {
            "fillpattern": {
             "fillmode": "overlay",
             "size": 10,
             "solidity": 0.2
            },
            "type": "scatter"
           }
          ],
          "scatter3d": [
           {
            "line": {
             "colorbar": {
              "outlinewidth": 0,
              "ticks": ""
             }
            },
            "marker": {
             "colorbar": {
              "outlinewidth": 0,
              "ticks": ""
             }
            },
            "type": "scatter3d"
           }
          ],
          "scattercarpet": [
           {
            "marker": {
             "colorbar": {
              "outlinewidth": 0,
              "ticks": ""
             }
            },
            "type": "scattercarpet"
           }
          ],
          "scattergeo": [
           {
            "marker": {
             "colorbar": {
              "outlinewidth": 0,
              "ticks": ""
             }
            },
            "type": "scattergeo"
           }
          ],
          "scattergl": [
           {
            "marker": {
             "colorbar": {
              "outlinewidth": 0,
              "ticks": ""
             }
            },
            "type": "scattergl"
           }
          ],
          "scattermapbox": [
           {
            "marker": {
             "colorbar": {
              "outlinewidth": 0,
              "ticks": ""
             }
            },
            "type": "scattermapbox"
           }
          ],
          "scatterpolar": [
           {
            "marker": {
             "colorbar": {
              "outlinewidth": 0,
              "ticks": ""
             }
            },
            "type": "scatterpolar"
           }
          ],
          "scatterpolargl": [
           {
            "marker": {
             "colorbar": {
              "outlinewidth": 0,
              "ticks": ""
             }
            },
            "type": "scatterpolargl"
           }
          ],
          "scatterternary": [
           {
            "marker": {
             "colorbar": {
              "outlinewidth": 0,
              "ticks": ""
             }
            },
            "type": "scatterternary"
           }
          ],
          "surface": [
           {
            "colorbar": {
             "outlinewidth": 0,
             "ticks": ""
            },
            "colorscale": [
             [
              0,
              "#0d0887"
             ],
             [
              0.1111111111111111,
              "#46039f"
             ],
             [
              0.2222222222222222,
              "#7201a8"
             ],
             [
              0.3333333333333333,
              "#9c179e"
             ],
             [
              0.4444444444444444,
              "#bd3786"
             ],
             [
              0.5555555555555556,
              "#d8576b"
             ],
             [
              0.6666666666666666,
              "#ed7953"
             ],
             [
              0.7777777777777778,
              "#fb9f3a"
             ],
             [
              0.8888888888888888,
              "#fdca26"
             ],
             [
              1,
              "#f0f921"
             ]
            ],
            "type": "surface"
           }
          ],
          "table": [
           {
            "cells": {
             "fill": {
              "color": "#EBF0F8"
             },
             "line": {
              "color": "white"
             }
            },
            "header": {
             "fill": {
              "color": "#C8D4E3"
             },
             "line": {
              "color": "white"
             }
            },
            "type": "table"
           }
          ]
         },
         "layout": {
          "annotationdefaults": {
           "arrowcolor": "#2a3f5f",
           "arrowhead": 0,
           "arrowwidth": 1
          },
          "autotypenumbers": "strict",
          "coloraxis": {
           "colorbar": {
            "outlinewidth": 0,
            "ticks": ""
           }
          },
          "colorscale": {
           "diverging": [
            [
             0,
             "#8e0152"
            ],
            [
             0.1,
             "#c51b7d"
            ],
            [
             0.2,
             "#de77ae"
            ],
            [
             0.3,
             "#f1b6da"
            ],
            [
             0.4,
             "#fde0ef"
            ],
            [
             0.5,
             "#f7f7f7"
            ],
            [
             0.6,
             "#e6f5d0"
            ],
            [
             0.7,
             "#b8e186"
            ],
            [
             0.8,
             "#7fbc41"
            ],
            [
             0.9,
             "#4d9221"
            ],
            [
             1,
             "#276419"
            ]
           ],
           "sequential": [
            [
             0,
             "#0d0887"
            ],
            [
             0.1111111111111111,
             "#46039f"
            ],
            [
             0.2222222222222222,
             "#7201a8"
            ],
            [
             0.3333333333333333,
             "#9c179e"
            ],
            [
             0.4444444444444444,
             "#bd3786"
            ],
            [
             0.5555555555555556,
             "#d8576b"
            ],
            [
             0.6666666666666666,
             "#ed7953"
            ],
            [
             0.7777777777777778,
             "#fb9f3a"
            ],
            [
             0.8888888888888888,
             "#fdca26"
            ],
            [
             1,
             "#f0f921"
            ]
           ],
           "sequentialminus": [
            [
             0,
             "#0d0887"
            ],
            [
             0.1111111111111111,
             "#46039f"
            ],
            [
             0.2222222222222222,
             "#7201a8"
            ],
            [
             0.3333333333333333,
             "#9c179e"
            ],
            [
             0.4444444444444444,
             "#bd3786"
            ],
            [
             0.5555555555555556,
             "#d8576b"
            ],
            [
             0.6666666666666666,
             "#ed7953"
            ],
            [
             0.7777777777777778,
             "#fb9f3a"
            ],
            [
             0.8888888888888888,
             "#fdca26"
            ],
            [
             1,
             "#f0f921"
            ]
           ]
          },
          "colorway": [
           "#636efa",
           "#EF553B",
           "#00cc96",
           "#ab63fa",
           "#FFA15A",
           "#19d3f3",
           "#FF6692",
           "#B6E880",
           "#FF97FF",
           "#FECB52"
          ],
          "font": {
           "color": "#2a3f5f"
          },
          "geo": {
           "bgcolor": "white",
           "lakecolor": "white",
           "landcolor": "#E5ECF6",
           "showlakes": true,
           "showland": true,
           "subunitcolor": "white"
          },
          "hoverlabel": {
           "align": "left"
          },
          "hovermode": "closest",
          "mapbox": {
           "style": "light"
          },
          "paper_bgcolor": "white",
          "plot_bgcolor": "#E5ECF6",
          "polar": {
           "angularaxis": {
            "gridcolor": "white",
            "linecolor": "white",
            "ticks": ""
           },
           "bgcolor": "#E5ECF6",
           "radialaxis": {
            "gridcolor": "white",
            "linecolor": "white",
            "ticks": ""
           }
          },
          "scene": {
           "xaxis": {
            "backgroundcolor": "#E5ECF6",
            "gridcolor": "white",
            "gridwidth": 2,
            "linecolor": "white",
            "showbackground": true,
            "ticks": "",
            "zerolinecolor": "white"
           },
           "yaxis": {
            "backgroundcolor": "#E5ECF6",
            "gridcolor": "white",
            "gridwidth": 2,
            "linecolor": "white",
            "showbackground": true,
            "ticks": "",
            "zerolinecolor": "white"
           },
           "zaxis": {
            "backgroundcolor": "#E5ECF6",
            "gridcolor": "white",
            "gridwidth": 2,
            "linecolor": "white",
            "showbackground": true,
            "ticks": "",
            "zerolinecolor": "white"
           }
          },
          "shapedefaults": {
           "line": {
            "color": "#2a3f5f"
           }
          },
          "ternary": {
           "aaxis": {
            "gridcolor": "white",
            "linecolor": "white",
            "ticks": ""
           },
           "baxis": {
            "gridcolor": "white",
            "linecolor": "white",
            "ticks": ""
           },
           "bgcolor": "#E5ECF6",
           "caxis": {
            "gridcolor": "white",
            "linecolor": "white",
            "ticks": ""
           }
          },
          "title": {
           "x": 0.05
          },
          "xaxis": {
           "automargin": true,
           "gridcolor": "white",
           "linecolor": "white",
           "ticks": "",
           "title": {
            "standoff": 15
           },
           "zerolinecolor": "white",
           "zerolinewidth": 2
          },
          "yaxis": {
           "automargin": true,
           "gridcolor": "white",
           "linecolor": "white",
           "ticks": "",
           "title": {
            "standoff": 15
           },
           "zerolinecolor": "white",
           "zerolinewidth": 2
          }
         }
        },
        "xaxis": {
         "anchor": "y",
         "domain": [
          0,
          1
         ],
         "title": {
          "text": "x"
         }
        },
        "yaxis": {
         "anchor": "x",
         "domain": [
          0,
          1
         ],
         "title": {
          "text": "y"
         }
        }
       }
      }
     },
     "metadata": {},
     "output_type": "display_data"
    }
   ],
   "source": [
    "from math import hypot\n",
    "from typing import List, Tuple\n",
    "\n",
    "vec = Tuple[float, float]\n",
    "\n",
    "# --- PID step helper (from previous answer) --------------------------\n",
    "def limit_vec(x: float, y: float, lim: float) -> vec:\n",
    "    d = hypot(x, y)\n",
    "    if d > lim and d != 0.0:\n",
    "        s = lim / d\n",
    "        return x * s, y * s\n",
    "    return x, y\n",
    "\n",
    "def next_point_pid(P1: vec, P2: vec,\n",
    "                   V1: vec, integral: vec,\n",
    "                   max_accel: float,\n",
    "                   Kp: float, Ki: float, Kd: float,\n",
    "                   dt: float = 1.0) -> Tuple[vec, vec, vec]:\n",
    "    err  = (P2[0] - P1[0], P2[1] - P1[1])\n",
    "    deriv = (-V1[0], -V1[1])               # desired end vel = 0\n",
    "    integral = (integral[0] + err[0]*dt, integral[1] + err[1]*dt)\n",
    "\n",
    "    ax = Kp*err[0] + Ki*integral[0] + Kd*deriv[0]\n",
    "    ay = Kp*err[1] + Ki*integral[1] + Kd*deriv[1]\n",
    "    ax, ay = limit_vec(ax, ay, max_accel)\n",
    "\n",
    "    V2 = (V1[0] + ax*dt, V1[1] + ay*dt)\n",
    "    P3 = (P1[0] + V2[0]*dt, P1[1] + V2[1]*dt)\n",
    "    return P3, V2, integral\n",
    "# ---------------------------------------------------------------------\n",
    "\n",
    "\n",
    "def meet_paths_pid(start: vec, end: vec,\n",
    "                   v_start: vec = (0., 0.), v_end: vec = (0., 0.),\n",
    "                   max_accel: float = 0.05,\n",
    "                   Kp: float = 0.4, Kd: float = 0.15, Ki: float = 0.0,\n",
    "                   epsilon: float = 0.02,\n",
    "                   max_steps: int = 600, dt: float = 1.0) -> List[vec]:\n",
    "    \"\"\"\n",
    "    Returns a single continuous path from `start` to `end`\n",
    "    using two PID-driven points that converge toward each other.\n",
    "    \"\"\"\n",
    "    P, Q  = start, end          # positions\n",
    "    Vp, Vq = v_start, v_end     # velocities\n",
    "    Ip, Iq = (0., 0.), (0., 0.) # PID integrals\n",
    "\n",
    "    path_fwd  : List[vec] = [P]\n",
    "    path_rev  : List[vec] = [Q]\n",
    "\n",
    "    for _ in range(max_steps):\n",
    "        # advance both ends with PID control\n",
    "        P_next, Vp, Ip = next_point_pid(P, Q, Vp, Ip,\n",
    "                                        max_accel, Kp, Ki, Kd, dt)\n",
    "        Q_next, Vq, Iq = next_point_pid(Q, P, Vq, Iq,\n",
    "                                        max_accel, Kp, Ki, Kd, dt)\n",
    "\n",
    "        # meet/cross check\n",
    "        if hypot(P_next[0] - Q_next[0], P_next[1] - Q_next[1]) < epsilon:\n",
    "            mid = ((P_next[0] + Q_next[0]) / 2,\n",
    "                   (P_next[1] + Q_next[1]) / 2)\n",
    "            path_fwd.append(mid)\n",
    "            path_rev.append(mid)\n",
    "            break\n",
    "\n",
    "        path_fwd.append(P_next)\n",
    "        path_rev.append(Q_next)\n",
    "        P, Q = P_next, Q_next\n",
    "\n",
    "    # Merge into one continuous list\n",
    "    path_rev.reverse()\n",
    "    path_rev = path_rev[1:]        # drop duplicate midpoint\n",
    "    return path_fwd + path_rev\n",
    "\n",
    "\n",
    "# ------------------- demo --------------------------------------------\n",
    "full = meet_paths_pid((10, 0), (2, 2),\n",
    "                        v_start=(0.5, 0), \n",
    "                        v_end=(-1, 0),\n",
    "                        max_accel=0.05,\n",
    "                        Kp=8, Kd=100, Ki=0.00001,\n",
    "                        epsilon=0.01, max_steps=40)\n",
    "\n",
    "xs, ys = zip(*full)\n",
    "px.scatter(x=xs, y=ys)\n",
    "\n"
   ]
  },
  {
   "cell_type": "code",
   "execution_count": null,
   "id": "d4d2f315",
   "metadata": {},
   "outputs": [],
   "source": [
    "\n",
    "\n",
    "# def motion_profiler(\n",
    "#         L1: line, L2: line,\n",
    "#         S1: speed, S2: speed,\n",
    "#         preL1: line, preL2: line,\n",
    "#         max_accel = 0.01):\n",
    "\n",
    "#     dist_between = np.sqrt((L2[1][0] - L1[0][0])**2 + (L2[1][1] - L1[0][1])**2)\n",
    "#     next_point = ()\n",
    "\n",
    "\n",
    "\n",
    "L1 = ((0, 0), (10, 0))\n",
    "L2 = ((0, 1), (10, 1))\n",
    "S1 = (0.1, 0)\n",
    "S2 = (0.1, 0)\n",
    "\n",
    "# profile = motion_profiler(L1, L2, S1, S2, L1, L2, 0.01)\n"
   ]
  },
  {
   "cell_type": "code",
   "execution_count": 253,
   "id": "302686a0",
   "metadata": {},
   "outputs": [
    {
     "data": {
      "application/vnd.plotly.v1+json": {
       "config": {
        "plotlyServerURL": "https://plot.ly"
       },
       "data": [
        {
         "hovertemplate": "x=%{x}<br>y=%{y}<extra></extra>",
         "legendgroup": "",
         "marker": {
          "color": "#636efa",
          "symbol": "circle"
         },
         "mode": "lines+markers",
         "name": "",
         "orientation": "v",
         "showlegend": false,
         "type": "scatter",
         "x": [
          10,
          9.99702,
          9.98816,
          9.97354,
          9.95328,
          9.9275,
          9.89632,
          9.85986,
          9.81824,
          9.77158,
          9.72,
          9.66362,
          9.60256,
          9.53694,
          9.46688,
          9.3925,
          9.31392,
          9.23126,
          9.14464,
          9.05418,
          8.959999999999999,
          8.86222,
          8.76096,
          8.65634,
          8.54848,
          8.4375,
          8.32352,
          8.20666,
          8.08704,
          7.96478,
          7.84,
          7.71282,
          7.58336,
          7.451739999999999,
          7.31808,
          7.182500000000001,
          7.045120000000001,
          6.90606,
          6.76544,
          6.62338,
          6.479999999999999,
          6.33542,
          6.189760000000001,
          6.04314,
          5.89568,
          5.7475,
          5.59872,
          5.44946,
          5.299839999999999,
          5.149980000000001,
          5,
          4.850020000000001,
          4.700159999999999,
          4.550539999999998,
          4.401280000000001,
          4.2524999999999995,
          4.10432,
          3.95686,
          3.8102400000000003,
          3.6645800000000017,
          3.5199999999999987,
          3.376620000000001,
          3.23456,
          3.09394,
          2.9548799999999993,
          2.817499999999999,
          2.681919999999999,
          2.548259999999999,
          2.4166399999999992,
          2.287180000000002,
          2.160000000000001,
          2.035219999999999,
          1.91296,
          1.7933400000000006,
          1.6764800000000015,
          1.5625,
          1.4515199999999986,
          1.3436600000000016,
          1.2390399999999993,
          1.1377799999999976,
          1.0399999999999991,
          0.9458199999999977,
          0.8553599999999975,
          0.7687399999999993,
          0.6860800000000022,
          0.6075000000000035,
          0.5331200000000003,
          0.4630599999999969,
          0.39743999999999957,
          0.3363800000000001,
          0.28000000000000114,
          0.22841999999999985,
          0.1817600000000006,
          0.14013999999999704,
          0.10367999999999888,
          0.07249999999999801,
          0.04671999999999521,
          0.026460000000001926,
          0.011840000000001183,
          0.0029800000000044236,
          0
         ],
         "xaxis": "x",
         "y": [
          0,
          0.00029800000000000003,
          0.0011840000000000002,
          0.0026460000000000003,
          0.004672000000000001,
          0.007250000000000001,
          0.010368,
          0.014014,
          0.018176,
          0.022841999999999998,
          0.028000000000000004,
          0.033638,
          0.039744,
          0.04630600000000001,
          0.053312000000000005,
          0.060750000000000005,
          0.068608,
          0.07687400000000001,
          0.085536,
          0.094582,
          0.10400000000000002,
          0.11377799999999998,
          0.123904,
          0.134366,
          0.145152,
          0.15625,
          0.16764800000000002,
          0.179334,
          0.19129600000000002,
          0.20352199999999998,
          0.21600000000000003,
          0.228718,
          0.24166400000000002,
          0.25482600000000005,
          0.26819200000000004,
          0.28174999999999994,
          0.295488,
          0.30939399999999995,
          0.323456,
          0.337662,
          0.3520000000000001,
          0.366458,
          0.3810239999999999,
          0.395686,
          0.410432,
          0.42525,
          0.440128,
          0.45505399999999996,
          0.4700160000000001,
          0.48500199999999993,
          0.5,
          0.514998,
          0.5299840000000001,
          0.5449460000000002,
          0.5598719999999999,
          0.5747500000000001,
          0.589568,
          0.604314,
          0.618976,
          0.6335419999999998,
          0.6480000000000001,
          0.6623379999999999,
          0.676544,
          0.690606,
          0.704512,
          0.71825,
          0.7318080000000001,
          0.7451740000000001,
          0.7583360000000001,
          0.7712819999999998,
          0.7839999999999999,
          0.7964780000000001,
          0.808704,
          0.8206659999999999,
          0.8323519999999999,
          0.84375,
          0.854848,
          0.8656339999999999,
          0.8760960000000001,
          0.8862220000000002,
          0.8960000000000001,
          0.9054180000000003,
          0.9144640000000002,
          0.9231260000000001,
          0.9313919999999998,
          0.9392499999999997,
          0.946688,
          0.9536940000000003,
          0.960256,
          0.9663619999999999,
          0.972,
          0.977158,
          0.981824,
          0.9859860000000003,
          0.9896320000000001,
          0.9927500000000002,
          0.9953280000000004,
          0.9973539999999999,
          0.9988159999999999,
          0.9997019999999996,
          1
         ],
         "yaxis": "y"
        }
       ],
       "layout": {
        "legend": {
         "tracegroupgap": 0
        },
        "template": {
         "data": {
          "bar": [
           {
            "error_x": {
             "color": "#2a3f5f"
            },
            "error_y": {
             "color": "#2a3f5f"
            },
            "marker": {
             "line": {
              "color": "#E5ECF6",
              "width": 0.5
             },
             "pattern": {
              "fillmode": "overlay",
              "size": 10,
              "solidity": 0.2
             }
            },
            "type": "bar"
           }
          ],
          "barpolar": [
           {
            "marker": {
             "line": {
              "color": "#E5ECF6",
              "width": 0.5
             },
             "pattern": {
              "fillmode": "overlay",
              "size": 10,
              "solidity": 0.2
             }
            },
            "type": "barpolar"
           }
          ],
          "carpet": [
           {
            "aaxis": {
             "endlinecolor": "#2a3f5f",
             "gridcolor": "white",
             "linecolor": "white",
             "minorgridcolor": "white",
             "startlinecolor": "#2a3f5f"
            },
            "baxis": {
             "endlinecolor": "#2a3f5f",
             "gridcolor": "white",
             "linecolor": "white",
             "minorgridcolor": "white",
             "startlinecolor": "#2a3f5f"
            },
            "type": "carpet"
           }
          ],
          "choropleth": [
           {
            "colorbar": {
             "outlinewidth": 0,
             "ticks": ""
            },
            "type": "choropleth"
           }
          ],
          "contour": [
           {
            "colorbar": {
             "outlinewidth": 0,
             "ticks": ""
            },
            "colorscale": [
             [
              0,
              "#0d0887"
             ],
             [
              0.1111111111111111,
              "#46039f"
             ],
             [
              0.2222222222222222,
              "#7201a8"
             ],
             [
              0.3333333333333333,
              "#9c179e"
             ],
             [
              0.4444444444444444,
              "#bd3786"
             ],
             [
              0.5555555555555556,
              "#d8576b"
             ],
             [
              0.6666666666666666,
              "#ed7953"
             ],
             [
              0.7777777777777778,
              "#fb9f3a"
             ],
             [
              0.8888888888888888,
              "#fdca26"
             ],
             [
              1,
              "#f0f921"
             ]
            ],
            "type": "contour"
           }
          ],
          "contourcarpet": [
           {
            "colorbar": {
             "outlinewidth": 0,
             "ticks": ""
            },
            "type": "contourcarpet"
           }
          ],
          "heatmap": [
           {
            "colorbar": {
             "outlinewidth": 0,
             "ticks": ""
            },
            "colorscale": [
             [
              0,
              "#0d0887"
             ],
             [
              0.1111111111111111,
              "#46039f"
             ],
             [
              0.2222222222222222,
              "#7201a8"
             ],
             [
              0.3333333333333333,
              "#9c179e"
             ],
             [
              0.4444444444444444,
              "#bd3786"
             ],
             [
              0.5555555555555556,
              "#d8576b"
             ],
             [
              0.6666666666666666,
              "#ed7953"
             ],
             [
              0.7777777777777778,
              "#fb9f3a"
             ],
             [
              0.8888888888888888,
              "#fdca26"
             ],
             [
              1,
              "#f0f921"
             ]
            ],
            "type": "heatmap"
           }
          ],
          "heatmapgl": [
           {
            "colorbar": {
             "outlinewidth": 0,
             "ticks": ""
            },
            "colorscale": [
             [
              0,
              "#0d0887"
             ],
             [
              0.1111111111111111,
              "#46039f"
             ],
             [
              0.2222222222222222,
              "#7201a8"
             ],
             [
              0.3333333333333333,
              "#9c179e"
             ],
             [
              0.4444444444444444,
              "#bd3786"
             ],
             [
              0.5555555555555556,
              "#d8576b"
             ],
             [
              0.6666666666666666,
              "#ed7953"
             ],
             [
              0.7777777777777778,
              "#fb9f3a"
             ],
             [
              0.8888888888888888,
              "#fdca26"
             ],
             [
              1,
              "#f0f921"
             ]
            ],
            "type": "heatmapgl"
           }
          ],
          "histogram": [
           {
            "marker": {
             "pattern": {
              "fillmode": "overlay",
              "size": 10,
              "solidity": 0.2
             }
            },
            "type": "histogram"
           }
          ],
          "histogram2d": [
           {
            "colorbar": {
             "outlinewidth": 0,
             "ticks": ""
            },
            "colorscale": [
             [
              0,
              "#0d0887"
             ],
             [
              0.1111111111111111,
              "#46039f"
             ],
             [
              0.2222222222222222,
              "#7201a8"
             ],
             [
              0.3333333333333333,
              "#9c179e"
             ],
             [
              0.4444444444444444,
              "#bd3786"
             ],
             [
              0.5555555555555556,
              "#d8576b"
             ],
             [
              0.6666666666666666,
              "#ed7953"
             ],
             [
              0.7777777777777778,
              "#fb9f3a"
             ],
             [
              0.8888888888888888,
              "#fdca26"
             ],
             [
              1,
              "#f0f921"
             ]
            ],
            "type": "histogram2d"
           }
          ],
          "histogram2dcontour": [
           {
            "colorbar": {
             "outlinewidth": 0,
             "ticks": ""
            },
            "colorscale": [
             [
              0,
              "#0d0887"
             ],
             [
              0.1111111111111111,
              "#46039f"
             ],
             [
              0.2222222222222222,
              "#7201a8"
             ],
             [
              0.3333333333333333,
              "#9c179e"
             ],
             [
              0.4444444444444444,
              "#bd3786"
             ],
             [
              0.5555555555555556,
              "#d8576b"
             ],
             [
              0.6666666666666666,
              "#ed7953"
             ],
             [
              0.7777777777777778,
              "#fb9f3a"
             ],
             [
              0.8888888888888888,
              "#fdca26"
             ],
             [
              1,
              "#f0f921"
             ]
            ],
            "type": "histogram2dcontour"
           }
          ],
          "mesh3d": [
           {
            "colorbar": {
             "outlinewidth": 0,
             "ticks": ""
            },
            "type": "mesh3d"
           }
          ],
          "parcoords": [
           {
            "line": {
             "colorbar": {
              "outlinewidth": 0,
              "ticks": ""
             }
            },
            "type": "parcoords"
           }
          ],
          "pie": [
           {
            "automargin": true,
            "type": "pie"
           }
          ],
          "scatter": [
           {
            "fillpattern": {
             "fillmode": "overlay",
             "size": 10,
             "solidity": 0.2
            },
            "type": "scatter"
           }
          ],
          "scatter3d": [
           {
            "line": {
             "colorbar": {
              "outlinewidth": 0,
              "ticks": ""
             }
            },
            "marker": {
             "colorbar": {
              "outlinewidth": 0,
              "ticks": ""
             }
            },
            "type": "scatter3d"
           }
          ],
          "scattercarpet": [
           {
            "marker": {
             "colorbar": {
              "outlinewidth": 0,
              "ticks": ""
             }
            },
            "type": "scattercarpet"
           }
          ],
          "scattergeo": [
           {
            "marker": {
             "colorbar": {
              "outlinewidth": 0,
              "ticks": ""
             }
            },
            "type": "scattergeo"
           }
          ],
          "scattergl": [
           {
            "marker": {
             "colorbar": {
              "outlinewidth": 0,
              "ticks": ""
             }
            },
            "type": "scattergl"
           }
          ],
          "scattermapbox": [
           {
            "marker": {
             "colorbar": {
              "outlinewidth": 0,
              "ticks": ""
             }
            },
            "type": "scattermapbox"
           }
          ],
          "scatterpolar": [
           {
            "marker": {
             "colorbar": {
              "outlinewidth": 0,
              "ticks": ""
             }
            },
            "type": "scatterpolar"
           }
          ],
          "scatterpolargl": [
           {
            "marker": {
             "colorbar": {
              "outlinewidth": 0,
              "ticks": ""
             }
            },
            "type": "scatterpolargl"
           }
          ],
          "scatterternary": [
           {
            "marker": {
             "colorbar": {
              "outlinewidth": 0,
              "ticks": ""
             }
            },
            "type": "scatterternary"
           }
          ],
          "surface": [
           {
            "colorbar": {
             "outlinewidth": 0,
             "ticks": ""
            },
            "colorscale": [
             [
              0,
              "#0d0887"
             ],
             [
              0.1111111111111111,
              "#46039f"
             ],
             [
              0.2222222222222222,
              "#7201a8"
             ],
             [
              0.3333333333333333,
              "#9c179e"
             ],
             [
              0.4444444444444444,
              "#bd3786"
             ],
             [
              0.5555555555555556,
              "#d8576b"
             ],
             [
              0.6666666666666666,
              "#ed7953"
             ],
             [
              0.7777777777777778,
              "#fb9f3a"
             ],
             [
              0.8888888888888888,
              "#fdca26"
             ],
             [
              1,
              "#f0f921"
             ]
            ],
            "type": "surface"
           }
          ],
          "table": [
           {
            "cells": {
             "fill": {
              "color": "#EBF0F8"
             },
             "line": {
              "color": "white"
             }
            },
            "header": {
             "fill": {
              "color": "#C8D4E3"
             },
             "line": {
              "color": "white"
             }
            },
            "type": "table"
           }
          ]
         },
         "layout": {
          "annotationdefaults": {
           "arrowcolor": "#2a3f5f",
           "arrowhead": 0,
           "arrowwidth": 1
          },
          "autotypenumbers": "strict",
          "coloraxis": {
           "colorbar": {
            "outlinewidth": 0,
            "ticks": ""
           }
          },
          "colorscale": {
           "diverging": [
            [
             0,
             "#8e0152"
            ],
            [
             0.1,
             "#c51b7d"
            ],
            [
             0.2,
             "#de77ae"
            ],
            [
             0.3,
             "#f1b6da"
            ],
            [
             0.4,
             "#fde0ef"
            ],
            [
             0.5,
             "#f7f7f7"
            ],
            [
             0.6,
             "#e6f5d0"
            ],
            [
             0.7,
             "#b8e186"
            ],
            [
             0.8,
             "#7fbc41"
            ],
            [
             0.9,
             "#4d9221"
            ],
            [
             1,
             "#276419"
            ]
           ],
           "sequential": [
            [
             0,
             "#0d0887"
            ],
            [
             0.1111111111111111,
             "#46039f"
            ],
            [
             0.2222222222222222,
             "#7201a8"
            ],
            [
             0.3333333333333333,
             "#9c179e"
            ],
            [
             0.4444444444444444,
             "#bd3786"
            ],
            [
             0.5555555555555556,
             "#d8576b"
            ],
            [
             0.6666666666666666,
             "#ed7953"
            ],
            [
             0.7777777777777778,
             "#fb9f3a"
            ],
            [
             0.8888888888888888,
             "#fdca26"
            ],
            [
             1,
             "#f0f921"
            ]
           ],
           "sequentialminus": [
            [
             0,
             "#0d0887"
            ],
            [
             0.1111111111111111,
             "#46039f"
            ],
            [
             0.2222222222222222,
             "#7201a8"
            ],
            [
             0.3333333333333333,
             "#9c179e"
            ],
            [
             0.4444444444444444,
             "#bd3786"
            ],
            [
             0.5555555555555556,
             "#d8576b"
            ],
            [
             0.6666666666666666,
             "#ed7953"
            ],
            [
             0.7777777777777778,
             "#fb9f3a"
            ],
            [
             0.8888888888888888,
             "#fdca26"
            ],
            [
             1,
             "#f0f921"
            ]
           ]
          },
          "colorway": [
           "#636efa",
           "#EF553B",
           "#00cc96",
           "#ab63fa",
           "#FFA15A",
           "#19d3f3",
           "#FF6692",
           "#B6E880",
           "#FF97FF",
           "#FECB52"
          ],
          "font": {
           "color": "#2a3f5f"
          },
          "geo": {
           "bgcolor": "white",
           "lakecolor": "white",
           "landcolor": "#E5ECF6",
           "showlakes": true,
           "showland": true,
           "subunitcolor": "white"
          },
          "hoverlabel": {
           "align": "left"
          },
          "hovermode": "closest",
          "mapbox": {
           "style": "light"
          },
          "paper_bgcolor": "white",
          "plot_bgcolor": "#E5ECF6",
          "polar": {
           "angularaxis": {
            "gridcolor": "white",
            "linecolor": "white",
            "ticks": ""
           },
           "bgcolor": "#E5ECF6",
           "radialaxis": {
            "gridcolor": "white",
            "linecolor": "white",
            "ticks": ""
           }
          },
          "scene": {
           "xaxis": {
            "backgroundcolor": "#E5ECF6",
            "gridcolor": "white",
            "gridwidth": 2,
            "linecolor": "white",
            "showbackground": true,
            "ticks": "",
            "zerolinecolor": "white"
           },
           "yaxis": {
            "backgroundcolor": "#E5ECF6",
            "gridcolor": "white",
            "gridwidth": 2,
            "linecolor": "white",
            "showbackground": true,
            "ticks": "",
            "zerolinecolor": "white"
           },
           "zaxis": {
            "backgroundcolor": "#E5ECF6",
            "gridcolor": "white",
            "gridwidth": 2,
            "linecolor": "white",
            "showbackground": true,
            "ticks": "",
            "zerolinecolor": "white"
           }
          },
          "shapedefaults": {
           "line": {
            "color": "#2a3f5f"
           }
          },
          "ternary": {
           "aaxis": {
            "gridcolor": "white",
            "linecolor": "white",
            "ticks": ""
           },
           "baxis": {
            "gridcolor": "white",
            "linecolor": "white",
            "ticks": ""
           },
           "bgcolor": "#E5ECF6",
           "caxis": {
            "gridcolor": "white",
            "linecolor": "white",
            "ticks": ""
           }
          },
          "title": {
           "x": 0.05
          },
          "xaxis": {
           "automargin": true,
           "gridcolor": "white",
           "linecolor": "white",
           "ticks": "",
           "title": {
            "standoff": 15
           },
           "zerolinecolor": "white",
           "zerolinewidth": 2
          },
          "yaxis": {
           "automargin": true,
           "gridcolor": "white",
           "linecolor": "white",
           "ticks": "",
           "title": {
            "standoff": 15
           },
           "zerolinecolor": "white",
           "zerolinewidth": 2
          }
         }
        },
        "title": {
         "text": "Parabolic Move Trajectory (Smooth)"
        },
        "xaxis": {
         "anchor": "y",
         "domain": [
          0,
          1
         ],
         "title": {
          "text": "x"
         }
        },
        "yaxis": {
         "anchor": "x",
         "domain": [
          0,
          1
         ],
         "title": {
          "text": "y"
         }
        }
       }
      }
     },
     "metadata": {},
     "output_type": "display_data"
    }
   ],
   "source": [
    "import numpy as np\n",
    "import plotly.express as px\n",
    "\n",
    "def move_parabola(x1, y1, x2, y2, steps):\n",
    "    points = []\n",
    "    for i in range(steps + 1):\n",
    "        t = i / steps\n",
    "        ease = 3 * t**2 - 2 * t**3  # smootherstep easing\n",
    "        x = x1 + (x2 - x1) * ease\n",
    "        y = y1 + (y2 - y1) * ease\n",
    "        points.append((x, y))\n",
    "    return points\n",
    "\n",
    "points = move_parabola(10, 0, 0, 1, 100)\n",
    "x_vals, y_vals = zip(*points)\n",
    "fig = px.scatter(x=x_vals, y=y_vals, title=\"Parabolic Move Trajectory (Smooth)\")\n",
    "fig.update_traces(mode='lines+markers')\n",
    "fig.show()\n"
   ]
  }
 ],
 "metadata": {
  "kernelspec": {
   "display_name": "base",
   "language": "python",
   "name": "python3"
  },
  "language_info": {
   "codemirror_mode": {
    "name": "ipython",
    "version": 3
   },
   "file_extension": ".py",
   "mimetype": "text/x-python",
   "name": "python",
   "nbconvert_exporter": "python",
   "pygments_lexer": "ipython3",
   "version": "3.12.7"
  }
 },
 "nbformat": 4,
 "nbformat_minor": 5
}
